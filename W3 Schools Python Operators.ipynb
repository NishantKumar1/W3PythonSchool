{
 "cells": [
  {
   "cell_type": "code",
   "execution_count": 1,
   "metadata": {},
   "outputs": [
    {
     "name": "stdout",
     "output_type": "stream",
     "text": [
      "0\n"
     ]
    }
   ],
   "source": [
    "# Python Operators:\n",
    "\n",
    "\"\"\"\n",
    "Python divides the operators in the following groups:\n",
    "\n",
    "Arithmetic operators--- used with numerica values to perform common mathematical operations\n",
    "Assignment operators---- Used to assign the values to variables.\n",
    "Comparison operators----- used to compare two values.\n",
    "\n",
    "Operator\tName\t\n",
    "==\tEqual\tx == y\t\n",
    "!=\tNot equal\tx != y\t\n",
    ">\tGreater than\tx > y\t\n",
    "<\tLess than\tx < y\t\n",
    ">=\tGreater than or equal to\tx >= y\t\n",
    "<=\tLess than or equal to\tx <= y\t\n",
    "\n",
    "\n",
    "Logical operators----- used to combine conditional statements. eg and or not..\n",
    "Operator\tDescription\tExample\tTry it\n",
    "and \tReturns True if both statements are true\tx < 5 and  x < 10\t\n",
    "or\tReturns True if one of the statements is true\tx < 5 or x < 4\t\n",
    "not\tReverse the result, returns False if the result is true\tnot(x < 5 and x < 10)\t\n",
    "\n",
    "Identity operators----- are used to compare the objects, not if they are equal, but if they are actually the same object, with the same memory location:eeg is or is not.\n",
    "\n",
    "Operator\tDescription\t\n",
    "is \tReturns True if both variables are the same object\tx is y\t\n",
    "is not\tReturns True if both variables are not the same object\tx is not y\n",
    "\n",
    "Membership operators-- are used to test if a sequence is presented in an object.eg in or not in.\n",
    "Operator\tDescription\t\n",
    "in \tReturns True if a sequence with the specified value is present in the object\tx in y\t\n",
    "not in\tReturns True if a sequence with the specified value is not present in the object\tx not in y.\n",
    "\n",
    "Bitwise operators---- used to compare with binary numbers.\n",
    "\n",
    "Operator\tName\tDescription\t\n",
    "& \tAND\tSets each bit to 1 if both bits are 1\tx & y\t\n",
    "|\tOR\tSets each bit to 1 if one of two bits is 1\tx | y\t\n",
    "^\tXOR\tSets each bit to 1 if only one of two bits is 1\tx ^ y\t\n",
    "~\tNOT\tInverts all the bits\t~x\t\n",
    "<<\tZero fill left shift\tShift left by pushing zeros in from the right and let the leftmost bits fall off\tx << 2\t\n",
    ">>\tSigned right shift\tShift right by pushing copies of the leftmost bit in from the left, and let the rightmost bits fall off\tx >> 2.\n",
    "\n",
    "\n",
    "\"\"\"\n",
    "\n",
    "\n",
    "\n",
    "\n",
    "# Operator Precedence \n",
    "# Operator Precedence describes the order in which operations are performed.\n",
    "#Multiplication * has higher precedence than addition +, and therefor multiplications are evaluated before additions:\n",
    "# Addition + and subtraction - has the same precedence, and therefor we evaluate the expression from left to right:\n",
    "\n",
    "print((6+3)-(6+3))"
   ]
  },
  {
   "cell_type": "code",
   "execution_count": 2,
   "metadata": {},
   "outputs": [
    {
     "name": "stdout",
     "output_type": "stream",
     "text": [
      "115\n"
     ]
    }
   ],
   "source": [
    "print(100 + 5 * 3)"
   ]
  },
  {
   "cell_type": "code",
   "execution_count": 3,
   "metadata": {},
   "outputs": [
    {
     "name": "stdout",
     "output_type": "stream",
     "text": [
      "5\n"
     ]
    }
   ],
   "source": [
    "\"\"\"\n",
    "The precedence order is described in the table below, starting with the highest precedence at the top:\n",
    "\n",
    "Operator\tDescription\tTry it\n",
    "()\tParentheses\t\n",
    "**\tExponentiation\t\n",
    "+x  -x  ~x\tUnary plus, unary minus, and bitwise NOT\t\n",
    "*  /  //  %\tMultiplication, division, floor division, and modulus\t\n",
    "+  -\tAddition and subtraction\t\n",
    "<<  >>\tBitwise left and right shifts\t\n",
    "&\tBitwise AND\t\n",
    "^\tBitwise XOR\t\n",
    "|\tBitwise OR\t\n",
    "==  !=  >  >=  <  <=  is  is not  in  not in \tComparisons, identity, and membership operators\t\n",
    "not\tLogical NOT\t\n",
    "and\tAND\t\n",
    "or\tOR\t\n",
    "If two operators have the same precedence, the expression is evaluated from left to right.\n",
    "\n",
    "\"\"\"\"Python Data Types.ipynb\"\n",
    "\n",
    "\n",
    "print(5 + 4 - 7 + 3)"
   ]
  },
  {
   "cell_type": "code",
   "execution_count": null,
   "metadata": {},
   "outputs": [],
   "source": []
  }
 ],
 "metadata": {
  "kernelspec": {
   "display_name": "Python 3",
   "language": "python",
   "name": "python3"
  },
  "language_info": {
   "codemirror_mode": {
    "name": "ipython",
    "version": 3
   },
   "file_extension": ".py",
   "mimetype": "text/x-python",
   "name": "python",
   "nbconvert_exporter": "python",
   "pygments_lexer": "ipython3",
   "version": "3.12.0"
  }
 },
 "nbformat": 4,
 "nbformat_minor": 2
}
